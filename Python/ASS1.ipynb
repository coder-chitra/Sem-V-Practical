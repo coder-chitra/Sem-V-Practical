{
 "cells": [
  {
   "cell_type": "code",
   "execution_count": 5,
   "id": "6ed15b46",
   "metadata": {},
   "outputs": [
    {
     "name": "stdout",
     "output_type": "stream",
     "text": [
      "Enter radius of cylinder in cm : 3.3\n",
      "Enter height of cylinder in cm : 35.6\n",
      "\n",
      "Surface area of cylinder =  1956.0921639599997  sq.cm\n",
      "Volume of cylinder =  2435.8883551199997  cu.cm\n"
     ]
    }
   ],
   "source": [
    "# Assignment I\n",
    "\n",
    "#  Q.1 )\n",
    "\n",
    "# a) surface area and volume of a cylinder\n",
    "\n",
    "r = input(\"Enter radius of cylinder in cm : \") # radius\n",
    "h = input(\"Enter height of cylinder in cm : \") # height\n",
    "\n",
    "PI = 3.14159\n",
    "\n",
    "if r.replace(\".\",\"\",1).isdigit() and h.replace(\".\",\"\",1).isdigit() :\n",
    "    r = float(r)\n",
    "    h = float(h)\n",
    "    area = (2 * PI * r * h) + (PI * (r ** 2) * h)\n",
    "    volume = 2 * PI * (r ** 2) * h \n",
    "    print(\"\\nSurface area of cylinder = \",area, \" sq.cm\")\n",
    "    print(\"Volume of cylinder = \",volume, \" cu.cm\")\n",
    "else :\n",
    "    print(\"Invalid Input Entered!\\nPlease Enter Valid Input\")"
   ]
  },
  {
   "cell_type": "code",
   "execution_count": 6,
   "id": "c1dded6e",
   "metadata": {},
   "outputs": [
    {
     "name": "stdout",
     "output_type": "stream",
     "text": [
      "Enter length of rectangle in cm : 3\n",
      "Enter breadth of rectangle in cm : 4\n",
      "\n",
      "Area of rectangle =  12.0  sq.cm\n",
      "Perimeter of rectangle =  14.0  cm\n"
     ]
    }
   ],
   "source": [
    "#b) Area and perimeter of a rectangle\n",
    "\n",
    "l = input(\"Enter length of rectangle in cm : \") # length\n",
    "b = input(\"Enter breadth of rectangle in cm : \") # breadth\n",
    "\n",
    "if l.replace(\".\",\"\",1).isdigit() and b.replace(\".\",\"\",1).isdigit() :\n",
    "    l = float(l)\n",
    "    b = float(b)\n",
    "    area = l * b\n",
    "    perimeter = 2 * (l+b)\n",
    "    print(\"\\nArea of rectangle = \",area, \" sq.cm\")\n",
    "    print(\"Perimeter of rectangle = \",perimeter, \" cm\")\n",
    "else :\n",
    "    print(\"Invalid Input Entered!\\nPlease Enter Valid Input\")"
   ]
  },
  {
   "cell_type": "code",
   "execution_count": 7,
   "id": "25f7bc63",
   "metadata": {},
   "outputs": [
    {
     "name": "stdout",
     "output_type": "stream",
     "text": [
      "Enter radius of circle in cm : 4\n",
      "Area of circle =  50.26544  sq.cm\n"
     ]
    }
   ],
   "source": [
    "#c) area of a circle\n",
    "\n",
    "\n",
    "r = input(\"Enter radius of circle in cm : \") # radius\n",
    "PI = 3.14159\n",
    "\n",
    "if r.replace(\".\",\"\",1).isdigit() :\n",
    "    r = float(r)\n",
    "    area = PI * (r ** 2)\n",
    "    print(\"Area of circle = \",area,\" sq.cm\")\n",
    "else :\n",
    "    print(\"Invalid Input Entered!\\nPlease Enter Valid Input\")"
   ]
  },
  {
   "cell_type": "code",
   "execution_count": 7,
   "id": "e5cc89e8",
   "metadata": {},
   "outputs": [
    {
     "name": "stdout",
     "output_type": "stream",
     "text": [
      "Enter N  : 10\n",
      "Sum of 1st 10 natural numbers = 55.0\n"
     ]
    }
   ],
   "source": [
    "# 2) sum of n natural numbers\n",
    "\n",
    "n = input(\"Enter N  : \")\n",
    "\n",
    "sum = 0\n",
    "\n",
    "if n.isdigit():\n",
    "    n = int(n)\n",
    "#     for i in range(1,n+1):\n",
    "    sum = (n * (n+1))/2\n",
    "    print(f\"Sum of 1st {n} natural numbers = {sum}\")\n",
    "else :\n",
    "    print(\"Invalid Input Entered!\\nPlease Enter Valid Integer\")"
   ]
  },
  {
   "cell_type": "code",
   "execution_count": 62,
   "id": "a4c87bd7",
   "metadata": {},
   "outputs": [
    {
     "name": "stdout",
     "output_type": "stream",
     "text": [
      "Enter Number : fdv\n",
      "Invalid Input Entered!\n",
      "Please Enter Valid Integer\n"
     ]
    }
   ],
   "source": [
    "# 3) sum of digit of number\n",
    "\n",
    "sum = 0\n",
    "\n",
    "num = input(\"Enter Number : \")\n",
    "\n",
    "if num.isdigit():\n",
    "    cpy = int(num) # copy of num\n",
    "    while cpy != 0 :\n",
    "        sum += cpy %10\n",
    "        cpy //= 10\n",
    "    print(f\"Sum of digit of {num} = {sum}\")\n",
    "else :\n",
    "    print(\"Invalid Input Entered!\\nPlease Enter Valid Integer\")"
   ]
  },
  {
   "cell_type": "code",
   "execution_count": 23,
   "id": "0253b065",
   "metadata": {},
   "outputs": [
    {
     "name": "stdout",
     "output_type": "stream",
     "text": [
      "Enter Number : 32.32\n",
      "Invalid Input Entered!\n",
      "Please Enter Valid Integer\n"
     ]
    }
   ],
   "source": [
    "# 4) Palindrome\n",
    "\n",
    "num = input(\"Enter Number : \")\n",
    "rev = 0\n",
    "\n",
    "if num.isdigit():\n",
    "    cpy = int(num) # copy of num\n",
    "    while cpy != 0 :\n",
    "        rev = (rev * 10) + cpy %10\n",
    "        cpy //= 10\n",
    "    if rev == int(num) :\n",
    "        print(num,\" is a palindrome\")\n",
    "    else :\n",
    "        print(num,\" is not a palindrome\")\n",
    "else :\n",
    "    print(\"Invalid Input Entered!\\nPlease Enter Valid Integer\")"
   ]
  },
  {
   "cell_type": "code",
   "execution_count": 47,
   "id": "3c9e7ef5",
   "metadata": {},
   "outputs": [
    {
     "name": "stdout",
     "output_type": "stream",
     "text": [
      "Enter no. of rows : 5\n",
      "*\n",
      "***\n",
      "*****\n",
      "***\n",
      "*\n"
     ]
    }
   ],
   "source": [
    "# 5)\n",
    "\n",
    "row = input(\"Enter no. of rows : \")\n",
    "\n",
    "if row.isdigit() :\n",
    "    row = int(row)\n",
    "    mid = (row+1)//2\n",
    "    for i in range(1,mid+1) :\n",
    "        j = 0\n",
    "        while j < (2*i-1):\n",
    "            print(\"*\",end=\"\")\n",
    "            j += 1\n",
    "        print()\n",
    "    for i in range(mid-1,0,-1) :\n",
    "        j = 0\n",
    "        while j < (2*i-1):\n",
    "            print(\"*\",end=\"\")\n",
    "            j += 1\n",
    "        print()\n",
    "else :\n",
    "    print(\"Invalid Input Entered!\\nPlease Enter Valid Integer Rows\")  "
   ]
  },
  {
   "cell_type": "code",
   "execution_count": 74,
   "id": "8e5808e5",
   "metadata": {},
   "outputs": [
    {
     "name": "stdout",
     "output_type": "stream",
     "text": [
      "Enter no. of rows : 3\n",
      "  *\n",
      " ***\n",
      "*****\n",
      " ***\n",
      "  *\n"
     ]
    }
   ],
   "source": [
    "row = input(\"Enter no. of rows : \")\n",
    "\n",
    "if row.isdigit() :\n",
    "    row = int(row)\n",
    "#     1st half\n",
    "    for i in range(1,row+1):\n",
    "        for j in range(row-i):\n",
    "            print(\" \",end=\"\")\n",
    "        for k in range(2*i-1):\n",
    "            print(\"*\",end=\"\")\n",
    "        print()\n",
    "            \n",
    "# 2nd half\n",
    "    for i in range(row-1,0,-1):\n",
    "        for j in range(row-i):\n",
    "            print(\" \",end=\"\")\n",
    "        for k in range(2*i-1):\n",
    "            print(\"*\",end=\"\")\n",
    "        print()"
   ]
  },
  {
   "cell_type": "code",
   "execution_count": null,
   "id": "8ac48329",
   "metadata": {},
   "outputs": [],
   "source": [
    "'''\n",
    "  *\n",
    " * *\n",
    "* * *\n",
    " * *\n",
    "  *\n",
    "'''\n",
    "\n",
    "row = input(\"Enter no. of rows : \")\n",
    "\n",
    "if row.isdigit() :\n",
    "    row = int(row)\n",
    "    for i in range()\n",
    "else :\n",
    "    print(\"Invalid Input Entered!\\nPlease Enter Valid Integer Rows\")  "
   ]
  },
  {
   "cell_type": "code",
   "execution_count": 41,
   "id": "3270bf75",
   "metadata": {},
   "outputs": [
    {
     "name": "stdout",
     "output_type": "stream",
     "text": [
      "Enter no. of rows : 5\n",
      "\n",
      "A \n",
      "B C \n",
      "D E F \n",
      "G H I J \n",
      "K L M N O \n"
     ]
    }
   ],
   "source": [
    "# optional 1)\n",
    "\n",
    "ch = 'A'\n",
    "\n",
    "row = input(\"Enter no. of rows : \")\n",
    "\n",
    "if row.isdigit() :\n",
    "    row = int(row)\n",
    "    for i in range(row+1) :\n",
    "        for j in range(i):\n",
    "            print(ch,end =\" \")\n",
    "            ch = chr(ord(ch)+1)\n",
    "        print()\n",
    "else :\n",
    "    print(\"Invalid Input Entered!\\nPlease Enter Valid Integer Rows\")  "
   ]
  },
  {
   "cell_type": "code",
   "execution_count": 64,
   "id": "681334a7",
   "metadata": {},
   "outputs": [
    {
     "name": "stdout",
     "output_type": "stream",
     "text": [
      "B\n"
     ]
    }
   ],
   "source": [
    "ch = 'A'\n",
    "temp = ord(ch)+1\n",
    "ch = chr(temp)\n",
    "print(ch)"
   ]
  },
  {
   "cell_type": "code",
   "execution_count": 83,
   "id": "2ab79916",
   "metadata": {},
   "outputs": [
    {
     "name": "stdout",
     "output_type": "stream",
     "text": [
      "Enter no. of rows : 5\n",
      "101010101\n",
      " 1010101\n",
      "  10101\n",
      "   101\n",
      "    1\n"
     ]
    }
   ],
   "source": [
    "row = input(\"Enter no. of rows : \")\n",
    "space = 0\n",
    "if row.isdigit() :\n",
    "    row = int(row)\n",
    "    \n",
    "    for i in range(row,0,-1) :\n",
    "        num = 1\n",
    "        k = 0\n",
    "        while k < space :\n",
    "            print(\" \",end=\"\")\n",
    "            k += 1\n",
    "        space += 1\n",
    "        \n",
    "        for j in range(2*i-1,0,-1):\n",
    "            print(num,end=\"\")\n",
    "            num = int(not(num))\n",
    "        print()\n",
    "else :\n",
    "    print(\"Invalid Input Entered!\\nPlease Enter Valid Integer Rows\")  "
   ]
  }
 ],
 "metadata": {
  "kernelspec": {
   "display_name": "Python 3 (ipykernel)",
   "language": "python",
   "name": "python3"
  },
  "language_info": {
   "codemirror_mode": {
    "name": "ipython",
    "version": 3
   },
   "file_extension": ".py",
   "mimetype": "text/x-python",
   "name": "python",
   "nbconvert_exporter": "python",
   "pygments_lexer": "ipython3",
   "version": "3.11.6"
  }
 },
 "nbformat": 4,
 "nbformat_minor": 5
}
