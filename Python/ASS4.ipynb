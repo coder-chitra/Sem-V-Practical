{
 "cells": [
  {
   "cell_type": "code",
   "execution_count": 1,
   "id": "b3bd5731",
   "metadata": {},
   "outputs": [
    {
     "name": "stdout",
     "output_type": "stream",
     "text": [
      "gaurav bhegade\n",
      "shriganesh suryawanshi\n",
      "avadhoot naik\n",
      "gayatri donatkar\n",
      "aanand ingle\n"
     ]
    }
   ],
   "source": [
    "with open('names.txt','r') as f:\n",
    "    lines=f.readlines()\n",
    "    for line in lines[::-1]:\n",
    "        print(line.strip())"
   ]
  },
  {
   "cell_type": "code",
   "execution_count": 3,
   "id": "c872ad9b",
   "metadata": {},
   "outputs": [
    {
     "name": "stdout",
     "output_type": "stream",
     "text": [
      "Enter file name: names.txt\n",
      "The number of characters:81, words: 77, and lines: 5\n"
     ]
    }
   ],
   "source": [
    "def count_char(file_fath):\n",
    "    with open(file_path,'r') as f:\n",
    "        chars=0\n",
    "        words=0\n",
    "        lines=0\n",
    "        for line in f:\n",
    "            lines+=1\n",
    "            words+=len(line.strip())\n",
    "            chars+=len(line)\n",
    "    return chars,words,lines\n",
    "file_path=input(\"Enter file name: \")\n",
    "chars,words,lines=count_char('file_path')\n",
    "print(f\"The number of characters: {chars}, words: {words}, and lines: {lines}\")"
   ]
  },
  {
   "cell_type": "code",
   "execution_count": 4,
   "id": "db82cae0",
   "metadata": {},
   "outputs": [
    {
     "name": "stdout",
     "output_type": "stream",
     "text": [
      "Enter file name: names.txt\n",
      "The number of uppercase characters in the file are:  5\n"
     ]
    }
   ],
   "source": [
    "def count_upper(file_path):\n",
    "    with open(file_path,'r') as f:\n",
    "        upper_char=0\n",
    "        for line in f:\n",
    "            for char in line:\n",
    "                if char.isupper():\n",
    "                    upper_char+=1\n",
    "    return upper_char\n",
    "file_path=input(\"Enter file name: \")\n",
    "print(\"The number of uppercase characters in the file are: \",count_upper(file_path))"
   ]
  },
  {
   "cell_type": "code",
   "execution_count": 1,
   "id": "99f64512",
   "metadata": {},
   "outputs": [
    {
     "name": "stdout",
     "output_type": "stream",
     "text": [
      "Enter file name: names.txt\n",
      "Enter the word to find frequency: aanand\n",
      "Enter the number of lines to display: 3\n",
      "First 3 lines of the file are: \n",
      "Aanand ingle\n",
      "Gayatri donatkar\n",
      "Avadhoot naik\n",
      "Frequency of 'aanand' in the file: 1\n"
     ]
    }
   ],
   "source": [
    "def display_line(file_path,n):\n",
    "    try:\n",
    "        with open(file_path,'r') as f:\n",
    "            lines=[next(f) for _ in range(n)]\n",
    "            print(\"First {} lines of the file are: \".format(n))\n",
    "            for line in lines:\n",
    "                print(line,end=\"\")\n",
    "    except FileNotFoundError:\n",
    "        print(\"Error: File not found!\")\n",
    "\n",
    "def find_frequency(file_path,word):\n",
    "    try:\n",
    "        with open(file_path,'r') as f:\n",
    "            text=f.read()\n",
    "            frequency=text.lower().count(word.lower())\n",
    "            print(\"Frequency of '{}' in the file: {}\".format(word,frequency))\n",
    "    except FileNotFoundError:\n",
    "        print(\"Error: File not Found\")\n",
    "        \n",
    "file_path=input(\"Enter file name: \")\n",
    "word=input(\"Enter the word to find frequency: \")\n",
    "while True:\n",
    "    n=input(\"Enter the number of lines to display: \")\n",
    "    if n.isdigit():\n",
    "        n=int(n)\n",
    "        display_line(file_path,n)\n",
    "        find_frequency(file_path,word)\n",
    "        break\n",
    "    else:\n",
    "        print(\"Enter valid input!!\")\n",
    "\n"
   ]
  },
  {
   "cell_type": "code",
   "execution_count": 11,
   "id": "d7cac908",
   "metadata": {},
   "outputs": [
    {
     "name": "stdout",
     "output_type": "stream",
     "text": [
      "Enter the patient's name: aanand\n",
      "Enter the age of the patient: 18\n",
      "Enter the oxygen level of the patient: 97\n",
      "Enter the HRCT report of the patient: 9\n",
      "Patient Name:  aanand\n",
      "Patient Age:  18\n",
      "Patient Oxygen Level:  97\n",
      "Patient HRCT Report:  9\n"
     ]
    }
   ],
   "source": [
    "class CovidPositiveException(Exception):\n",
    "    pass\n",
    "\n",
    "class Patient:\n",
    "    def __init__(self,patient_name,patient_age,patient_oxy_level,patient_HRCT_report):\n",
    "        self.patient_name=patient_name\n",
    "        self.patient_age=patient_age\n",
    "        self.patient_oxy_level=patient_oxy_level\n",
    "        self.patient_HRCT_report=patient_HRCT_report\n",
    "    def check_covid_status(self):\n",
    "        if self.patient_oxy_level<95 and self.patient_HRCT_report>10:\n",
    "            raise CovidPositiveException(\"Patient is Covid Positive and needs to be hospitalized\")\n",
    "        else:\n",
    "            return True\n",
    "    def display_patient_info(self):\n",
    "        print(\"Patient Name: \",self.patient_name)\n",
    "        print(\"Patient Age: \",self.patient_age)\n",
    "        print(\"Patient Oxygen Level: \",self.patient_oxy_level)\n",
    "        print(\"Patient HRCT Report: \",self.patient_HRCT_report)\n",
    "\n",
    "while True:        \n",
    "    name=input(\"Enter the patient's name: \")\n",
    "    age=input(\"Enter the age of the patient: \")\n",
    "    oxy=input(\"Enter the oxygen level of the patient: \")\n",
    "    HRCT=input(\"Enter the HRCT report of the patient: \")\n",
    "    if age.isdigit() and int(age)>0 and oxy.isdigit() and int(oxy)>=0 and HRCT.isdigit() and int(HRCT)>=0:\n",
    "        age=int(age)\n",
    "        oxy=int(oxy)\n",
    "        HRCT=int(HRCT)\n",
    "        patient1=Patient(name,age,oxy,HRCT)\n",
    "        try:\n",
    "            if patient1.check_covid_status():\n",
    "                patient1.display_patient_info()\n",
    "        except CovidPositiveException as e:\n",
    "            print(e)\n",
    "        break\n",
    "    else:\n",
    "        print(\"Please check the input!!!\")"
   ]
  },
  {
   "cell_type": "code",
   "execution_count": null,
   "id": "2bfe8d08",
   "metadata": {},
   "outputs": [],
   "source": []
  },
  {
   "cell_type": "code",
   "execution_count": null,
   "id": "f9ed4bbb",
   "metadata": {},
   "outputs": [],
   "source": []
  }
 ],
 "metadata": {
  "kernelspec": {
   "display_name": "Python 3 (ipykernel)",
   "language": "python",
   "name": "python3"
  },
  "language_info": {
   "codemirror_mode": {
    "name": "ipython",
    "version": 3
   },
   "file_extension": ".py",
   "mimetype": "text/x-python",
   "name": "python",
   "nbconvert_exporter": "python",
   "pygments_lexer": "ipython3",
   "version": "3.11.6"
  }
 },
 "nbformat": 4,
 "nbformat_minor": 5
}
