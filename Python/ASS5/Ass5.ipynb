{
 "cells": [
  {
   "cell_type": "code",
   "execution_count": 7,
   "id": "d7a68af6",
   "metadata": {},
   "outputs": [
    {
     "name": "stdout",
     "output_type": "stream",
     "text": [
      "Enter the length of the rectangle: 5\n",
      "Enter the breadth of the rectangle: 5\n",
      "Area of rectangle is:  25\n",
      "Is it a square:  True\n"
     ]
    }
   ],
   "source": [
    "class Rectangle:\n",
    "    def __init__(self,length,breadth):\n",
    "        self.length=length\n",
    "        self.breadth=breadth \n",
    "    def area(self):\n",
    "        return self.length*self.breadth\n",
    "    def is_square(self):\n",
    "        return self.length==self.breadth\n",
    "while True:\n",
    "    length=input(\"Enter the length of the rectangle: \")\n",
    "    breadth=input(\"Enter the breadth of the rectangle: \")\n",
    "    if length.isdigit() and breadth.isdigit() and int(length)>=0 and int(length)>=int(breadth)>=0:\n",
    "        length=int(length)\n",
    "        breadth=int(breadth)\n",
    "        rect=Rectangle(length,breadth)\n",
    "        print(\"Area of rectangle is: \",rect.area())\n",
    "        print(\"Is it a square: \",rect.is_square())\n",
    "        break\n",
    "    else:\n",
    "        print(\"Enter valid input\")"
   ]
  },
  {
   "cell_type": "code",
   "execution_count": 2,
   "id": "85d87929",
   "metadata": {},
   "outputs": [
    {
     "name": "stdout",
     "output_type": "stream",
     "text": [
      "Enter a string or an integer: 123\n",
      "False\n"
     ]
    }
   ],
   "source": [
    "class Palindrome:\n",
    "    def __init__(self,value):\n",
    "        self.value=value\n",
    "    def is_palindrome(self):\n",
    "        raise NotImplementedError(\"Subclasses must obey\")\n",
    "        \n",
    "class StringPalindrome(Palindrome):\n",
    "    def is_palindrome(self):\n",
    "        return self.value==self.value[::-1]\n",
    "    \n",
    "class IntegerPalindrome(Palindrome):\n",
    "    def is_palindrome(self):\n",
    "        return str(self.value)==str(self.value)[::-1]\n",
    "    \n",
    "def check_palindrome(value):\n",
    "    if isinstance(value,str):\n",
    "        palindrome=StringPalindrome(value)\n",
    "    elif isinstance(value,int):\n",
    "        palindrome=IntegerPalindrome(value)\n",
    "    else:\n",
    "        raise ValueError(\"Invalid Input Given\")\n",
    "    return palindrome.is_palindrome()\n",
    "\n",
    "while True:\n",
    "    uinput=input(\"Enter a string or an integer: \")\n",
    "    if uinput.isalpha():\n",
    "        print(check_palindrome(uinput))\n",
    "        break\n",
    "    elif uinput.isdigit():\n",
    "        uinput=int(uinput)\n",
    "        print(check_palindrome(uinput))\n",
    "        break\n",
    "    else:\n",
    "        print(\"Enter Valid Input\")"
   ]
  }
 ],
 "metadata": {
  "kernelspec": {
   "display_name": "Python 3 (ipykernel)",
   "language": "python",
   "name": "python3"
  },
  "language_info": {
   "codemirror_mode": {
    "name": "ipython",
    "version": 3
   },
   "file_extension": ".py",
   "mimetype": "text/x-python",
   "name": "python",
   "nbconvert_exporter": "python",
   "pygments_lexer": "ipython3",
   "version": "3.11.6"
  }
 },
 "nbformat": 4,
 "nbformat_minor": 5
}
