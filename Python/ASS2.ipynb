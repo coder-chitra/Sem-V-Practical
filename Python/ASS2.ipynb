{
 "cells": [
  {
   "cell_type": "code",
   "execution_count": 16,
   "id": "d7fbc8bd",
   "metadata": {},
   "outputs": [
    {
     "name": "stdout",
     "output_type": "stream",
     "text": [
      "l1 : [1, 2, 3, 4, 5]\n",
      "l2 : [3, 4, 6, 6, 0]\n",
      "[1, 2, 3, 4, 5, 6, 0]\n",
      "Union:  [1, 2, 3, 4, 5, 6, 0]\n",
      "Intersection:  [3, 4]\n"
     ]
    }
   ],
   "source": [
    "#Q1\n",
    "\n",
    "l1=[1,2,3,4,5]\n",
    "l2=[3,4,6,6,0]\n",
    "u=[]\n",
    "i1=[]\n",
    "i=[]\n",
    "print(\"l1 :\",l1)\n",
    "print(\"l2 :\",l2)\n",
    "\n",
    "for x in l2:\n",
    "    if x in l1:\n",
    "        i1.append(x)\n",
    "        \n",
    "for x in i1:\n",
    "    if x not in i:\n",
    "        i.append(x)\n",
    "        \n",
    "l1.extend(l2)\n",
    "\n",
    "for x in l1:\n",
    "    if x not in u:\n",
    "        u.append(x)\n",
    "        \n",
    "for x in l1:\n",
    "    if x not in u:\n",
    "        u.append(x)\n",
    "        \n",
    "print(u)\n",
    "\n",
    "print(\"Union: \",u)\n",
    "print(\"Intersection: \",i)"
   ]
  },
  {
   "cell_type": "code",
   "execution_count": 15,
   "id": "1ca59c54",
   "metadata": {},
   "outputs": [
    {
     "name": "stdout",
     "output_type": "stream",
     "text": [
      "Enter no. of elements in dict 1:3\n",
      "Enter no. of elements in dict 2:4\n",
      "Enter key: 1\n",
      "Enter value: aaa\n",
      "Enter key: 2\n",
      "Enter value: bbb\n",
      "Enter key: 3\n",
      "Enter value: ccc\n",
      "Enter key: 4\n",
      "Enter value: ddd\n",
      "Enter key: 5\n",
      "Enter value: eee\n",
      "Enter key: 6\n",
      "Enter value: fff\n",
      "Enter key: 7\n",
      "Enter value: ggg\n",
      "{'1': 'aaa', '2': 'bbb', '3': 'ccc'}\n",
      "{'4': 'ddd', '5': 'eee', '6': 'fff', '7': 'ggg'}\n",
      "{'1': 'aaa', '2': 'bbb', '3': 'ccc', '4': 'ddd', '5': 'eee', '6': 'fff', '7': 'ggg'}\n"
     ]
    }
   ],
   "source": [
    "#Q2\n",
    "\n",
    "dict1={}\n",
    "dict2={}\n",
    "\n",
    "n1=int(input(\"Enter no. of elements in dict 1:\"))\n",
    "n2=int(input(\"Enter no. of elements in dict 2:\"))\n",
    "\n",
    "for i in range(n1):\n",
    "    \n",
    "    key=input(\"Enter key: \")\n",
    "    value=input(\"Enter value: \")\n",
    "    dict1[key]=value\n",
    "    \n",
    "for i in range(n2):\n",
    "    \n",
    "    key=input(\"Enter key: \")\n",
    "    value=input(\"Enter value: \")\n",
    "    dict2[key]=value\n",
    "    \n",
    "print(dict1)\n",
    "print(dict2)\n",
    "\n",
    "dict1.update(dict2)\n",
    "print(dict1)"
   ]
  },
  {
   "cell_type": "code",
   "execution_count": 11,
   "id": "83ae0f52",
   "metadata": {},
   "outputs": [
    {
     "name": "stdout",
     "output_type": "stream",
     "text": [
      "Enter no. of elements :10\n",
      "\n",
      " Enter data:\n",
      "Enter number:2\n",
      "Enter number:7\n",
      "Enter number:11\n",
      "Enter number:5\n",
      "Enter number:3\n",
      "Enter number:19\n",
      "Enter number:14\n",
      "Enter number:9\n",
      "Enter number:1\n",
      "Enter number:4\n",
      "[2, 7, 11, 5, 3, 19, 14, 9, 1, 4]\n",
      "{2: [2, 1], 7: [7, 1], 11: [11, 1], 5: [5, 1], 3: [3, 1], 19: [19, 1], 14: [2, 7, 14, 1], 9: [3, 9, 1], 1: [1], 4: [2, 1, 4]}\n"
     ]
    }
   ],
   "source": [
    "#Q3\n",
    "\n",
    "l=[]\n",
    "d={}\n",
    "n=int(input(\"Enter no. of elements :\"))\n",
    "print(\"\\n Enter data:\")\n",
    "for i in range(n):\n",
    "    num=int(input(\"Enter number:\"))\n",
    "    l.append(num)\n",
    "print(l)\n",
    "\n",
    "for i in l:\n",
    "    x=[]\n",
    "    for j in l:\n",
    "        if i % j == 0:\n",
    "            x.append(j)\n",
    "    d[i]=x\n",
    "print(d)"
   ]
  },
  {
   "cell_type": "code",
   "execution_count": 12,
   "id": "67d1d8b9",
   "metadata": {},
   "outputs": [
    {
     "name": "stdout",
     "output_type": "stream",
     "text": [
      "12\n",
      "[25, 50]\n",
      "([25, 50], ('a', 'b'), 'Computer', 'Hockey', 45, 3, 12)\n",
      "Not found\n",
      "b\n",
      "50\n"
     ]
    }
   ],
   "source": [
    "#Q4\n",
    "\n",
    "T1=(12,3,45,'Hockey','Computer',('a','b'),[25,50])\n",
    "\n",
    "#a)\n",
    "print(T1[0])\n",
    "\n",
    "#b)\n",
    "print(T1[-1])\n",
    "\n",
    "#c)\n",
    "print(T1[::-1])\n",
    "\n",
    "#d)\n",
    "if 'Anil' in T1:\n",
    "    print(\"Found\")\n",
    "else:\n",
    "    print(\"Not found\")\n",
    "    \n",
    "#e)\n",
    "print(T1[5][1])\n",
    "\n",
    "#f)\n",
    "print(T1[6][1])"
   ]
  },
  {
   "cell_type": "code",
   "execution_count": null,
   "id": "9b2df820",
   "metadata": {},
   "outputs": [],
   "source": []
  }
 ],
 "metadata": {
  "kernelspec": {
   "display_name": "Python 3 (ipykernel)",
   "language": "python",
   "name": "python3"
  },
  "language_info": {
   "codemirror_mode": {
    "name": "ipython",
    "version": 3
   },
   "file_extension": ".py",
   "mimetype": "text/x-python",
   "name": "python",
   "nbconvert_exporter": "python",
   "pygments_lexer": "ipython3",
   "version": "3.11.3"
  }
 },
 "nbformat": 4,
 "nbformat_minor": 5
}
